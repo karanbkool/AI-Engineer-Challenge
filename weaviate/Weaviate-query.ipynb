{
 "cells": [
  {
   "cell_type": "code",
   "execution_count": 11,
   "id": "7ab8d3d5",
   "metadata": {},
   "outputs": [],
   "source": [
    "#pip install weaviate"
   ]
  },
  {
   "cell_type": "code",
   "execution_count": 1,
   "id": "6ddc95e7",
   "metadata": {},
   "outputs": [
    {
     "name": "stdout",
     "output_type": "stream",
     "text": [
      "^C\n",
      "Note: you may need to restart the kernel to use updated packages.\n"
     ]
    }
   ],
   "source": [
    "#pip uninstall weaviate-client"
   ]
  },
  {
   "cell_type": "code",
   "execution_count": 2,
   "id": "5e303378",
   "metadata": {},
   "outputs": [
    {
     "name": "stdout",
     "output_type": "stream",
     "text": [
      "Requirement already satisfied: weaviate-client<4.0.0,>=3.26.7 in c:\\users\\karan\\appdata\\local\\programs\\python\\python310\\lib\\site-packages (3.26.7)\n",
      "Requirement already satisfied: requests<3.0.0,>=2.32.2 in c:\\users\\karan\\appdata\\local\\programs\\python\\python310\\lib\\site-packages (from weaviate-client<4.0.0,>=3.26.7) (2.32.3)\n",
      "Requirement already satisfied: validators<1.0.0,>=0.21.2 in c:\\users\\karan\\appdata\\local\\programs\\python\\python310\\lib\\site-packages (from weaviate-client<4.0.0,>=3.26.7) (0.34.0)\n",
      "Requirement already satisfied: authlib<2.0.0,>=1.3.1 in c:\\users\\karan\\appdata\\local\\programs\\python\\python310\\lib\\site-packages (from weaviate-client<4.0.0,>=3.26.7) (1.3.1)\n",
      "Requirement already satisfied: cryptography in c:\\users\\karan\\appdata\\local\\programs\\python\\python310\\lib\\site-packages (from authlib<2.0.0,>=1.3.1->weaviate-client<4.0.0,>=3.26.7) (42.0.8)\n",
      "Requirement already satisfied: charset-normalizer<4,>=2 in c:\\users\\karan\\appdata\\local\\programs\\python\\python310\\lib\\site-packages (from requests<3.0.0,>=2.32.2->weaviate-client<4.0.0,>=3.26.7) (3.3.2)\n",
      "Requirement already satisfied: idna<4,>=2.5 in c:\\users\\karan\\appdata\\local\\programs\\python\\python310\\lib\\site-packages (from requests<3.0.0,>=2.32.2->weaviate-client<4.0.0,>=3.26.7) (3.4)\n",
      "Requirement already satisfied: urllib3<3,>=1.21.1 in c:\\users\\karan\\appdata\\local\\programs\\python\\python310\\lib\\site-packages (from requests<3.0.0,>=2.32.2->weaviate-client<4.0.0,>=3.26.7) (2.2.1)\n",
      "Requirement already satisfied: certifi>=2017.4.17 in c:\\users\\karan\\appdata\\local\\programs\\python\\python310\\lib\\site-packages (from requests<3.0.0,>=2.32.2->weaviate-client<4.0.0,>=3.26.7) (2024.2.2)\n",
      "Requirement already satisfied: cffi>=1.12 in c:\\users\\karan\\appdata\\local\\programs\\python\\python310\\lib\\site-packages (from cryptography->authlib<2.0.0,>=1.3.1->weaviate-client<4.0.0,>=3.26.7) (1.15.1)\n",
      "Requirement already satisfied: pycparser in c:\\users\\karan\\appdata\\local\\programs\\python\\python310\\lib\\site-packages (from cffi>=1.12->cryptography->authlib<2.0.0,>=1.3.1->weaviate-client<4.0.0,>=3.26.7) (2.21)\n",
      "Note: you may need to restart the kernel to use updated packages.\n"
     ]
    },
    {
     "name": "stderr",
     "output_type": "stream",
     "text": [
      "\n",
      "[notice] A new release of pip is available: 24.0 -> 24.3.1\n",
      "[notice] To update, run: C:\\Users\\karan\\AppData\\Local\\Programs\\Python\\Python310\\python.exe -m pip install --upgrade pip\n"
     ]
    }
   ],
   "source": [
    "pip install \"weaviate-client>=3.26.7,<4.0.0\""
   ]
  },
  {
   "cell_type": "code",
   "execution_count": 12,
   "id": "ec398101",
   "metadata": {},
   "outputs": [],
   "source": [
    "#pip install --upgrade weaviate-client"
   ]
  },
  {
   "cell_type": "code",
   "execution_count": 4,
   "id": "d3ca94a7",
   "metadata": {},
   "outputs": [
    {
     "name": "stdout",
     "output_type": "stream",
     "text": [
      "Query results:\n",
      "{'data': {'Get': {'Colors': [{'description': 'This is the color blue.', 'key': 'blue'}, {'description': 'This is the color red.', 'key': 'red'}, {'description': 'This is the color green.', 'key': 'green'}]}}}\n"
     ]
    }
   ],
   "source": [
    "import weaviate\n",
    "\n",
    "client = weaviate.Client(\"http://localhost:8080\")\n",
    "\n",
    "# Create class \n",
    "try:\n",
    "    client.schema.delete_class(\"Colors\")\n",
    "except Exception:\n",
    "    pass  \n",
    "\n",
    "\n",
    "# Define colors schema with no internal vectorization\n",
    "colors_schema = {\n",
    "    \"class\": \"Colors\",\n",
    "    \"vectorizer\": \"none\",\n",
    "    \"properties\": [\n",
    "        {\n",
    "            \"name\": \"key\",\n",
    "            \"dataType\": [\"string\"]\n",
    "        },\n",
    "        {\n",
    "            \"name\": \"description\",\n",
    "            \"dataType\": [\"string\"]\n",
    "        }\n",
    "    ]\n",
    "}\n",
    "\n",
    "# Create colors class in Weaviate\n",
    "client.schema.create_class(colors_schema)\n",
    "\n",
    "# Example vectors\n",
    "items_to_insert = [\n",
    "    {\"key\": \"red\",   \"description\": \"This is the color red.\",   \"vector\": [1.0, 0.0, 0.0]},\n",
    "    {\"key\": \"green\", \"description\": \"This is the color green.\", \"vector\": [0.0, 1.0, 0.0]},\n",
    "    {\"key\": \"blue\",  \"description\": \"This is the color blue.\",  \"vector\": [0.0, 0.0, 1.0]}\n",
    "]\n",
    "\n",
    "# Insert each item with its corresponding vector\n",
    "for item in items_to_insert:\n",
    "    data = {\n",
    "        \"key\": item[\"key\"],\n",
    "        \"description\": item[\"description\"]\n",
    "    }\n",
    "    client.data_object.create(\n",
    "        data_object=data,\n",
    "        class_name=\"Colors\",\n",
    "        vector=item[\"vector\"]  \n",
    "    )\n",
    "\n",
    "# Query the Colors class \n",
    "results = client.query.get(\"Colors\", [\"key\", \"description\"]).do()\n",
    "\n",
    "print(\"Query results:\")\n",
    "print(results)"
   ]
  },
  {
   "cell_type": "code",
   "execution_count": null,
   "id": "5848645a",
   "metadata": {},
   "outputs": [],
   "source": []
  }
 ],
 "metadata": {
  "kernelspec": {
   "display_name": "Python 3 (ipykernel)",
   "language": "python",
   "name": "python3"
  },
  "language_info": {
   "codemirror_mode": {
    "name": "ipython",
    "version": 3
   },
   "file_extension": ".py",
   "mimetype": "text/x-python",
   "name": "python",
   "nbconvert_exporter": "python",
   "pygments_lexer": "ipython3",
   "version": "3.10.0"
  }
 },
 "nbformat": 4,
 "nbformat_minor": 5
}
